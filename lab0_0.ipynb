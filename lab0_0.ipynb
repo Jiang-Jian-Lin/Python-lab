{
  "nbformat": 4,
  "nbformat_minor": 0,
  "metadata": {
    "colab": {
      "name": "lab0-0.ipynb",
      "provenance": [],
      "collapsed_sections": [],
      "authorship_tag": "ABX9TyNTdvUzPtNFdt/CyP+7Mgit",
      "include_colab_link": true
    },
    "kernelspec": {
      "name": "python3",
      "display_name": "Python 3"
    },
    "language_info": {
      "name": "python"
    }
  },
  "cells": [
    {
      "cell_type": "markdown",
      "metadata": {
        "id": "view-in-github",
        "colab_type": "text"
      },
      "source": [
        "<a href=\"https://colab.research.google.com/github/Jiang-Jian-Lin/Python-lab/blob/main/lab0_0.ipynb\" target=\"_parent\"><img src=\"https://colab.research.google.com/assets/colab-badge.svg\" alt=\"Open In Colab\"/></a>"
      ]
    },
    {
      "cell_type": "code",
      "metadata": {
        "colab": {
          "base_uri": "https://localhost:8080/"
        },
        "id": "X6RUNKqQEhWP",
        "outputId": "11b514de-48de-4292-c9e2-0d0e3d9fc0e6"
      },
      "source": [
        "a  =  10 \n",
        "b  =  3 \n",
        "a  +=  b         #相當於：a = a + b   #a = 13\n",
        "a  *=  a  +  2     #相當於：a = a * (a + 2)  \n",
        "print ( a )       #算一下這裡會輸出什麼"
      ],
      "execution_count": null,
      "outputs": [
        {
          "output_type": "stream",
          "text": [
            "195\n"
          ],
          "name": "stdout"
        }
      ]
    }
  ]
}