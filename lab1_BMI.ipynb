{
  "nbformat": 4,
  "nbformat_minor": 0,
  "metadata": {
    "colab": {
      "name": "lab1-BMI.ipynb",
      "provenance": [],
      "collapsed_sections": [],
      "authorship_tag": "ABX9TyM5/blRz0G/xfbXFNQ2kcbV",
      "include_colab_link": true
    },
    "kernelspec": {
      "name": "python3",
      "display_name": "Python 3"
    },
    "language_info": {
      "name": "python"
    }
  },
  "cells": [
    {
      "cell_type": "markdown",
      "metadata": {
        "id": "view-in-github",
        "colab_type": "text"
      },
      "source": [
        "<a href=\"https://colab.research.google.com/github/Jiang-Jian-Lin/Python-lab/blob/main/lab1_BMI.ipynb\" target=\"_parent\"><img src=\"https://colab.research.google.com/assets/colab-badge.svg\" alt=\"Open In Colab\"/></a>"
      ]
    },
    {
      "cell_type": "code",
      "metadata": {
        "colab": {
          "base_uri": "https://localhost:8080/"
        },
        "id": "s4SKalXz99Ni",
        "outputId": "a26e4057-9696-4e00-cc65-61a18dc5d223"
      },
      "source": [
        "L = float(input (\"身高(公尺)\"))\n",
        "M = float(input (\"體重(公斤)\"))\n",
        "\n",
        "BMI = M /(L**2) #L**2 == L*L\n",
        "print(BMI)\n",
        "\n",
        "print(\"L type is \", type(L))\n",
        "print(\"L type is \", type(M))"
      ],
      "execution_count": null,
      "outputs": [
        {
          "output_type": "stream",
          "text": [
            "身高(公尺)1.7\n",
            "體重(公斤)60\n",
            "20.761245674740486\n",
            "L type is  <class 'float'>\n",
            "L type is  <class 'float'>\n"
          ],
          "name": "stdout"
        }
      ]
    },
    {
      "cell_type": "markdown",
      "metadata": {
        "id": "WFQOrBLf_aKd"
      },
      "source": [
        ""
      ]
    }
  ]
}